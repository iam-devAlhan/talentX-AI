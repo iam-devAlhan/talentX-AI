{
 "cells": [
  {
   "cell_type": "code",
   "execution_count": 2,
   "id": "81985bdb",
   "metadata": {},
   "outputs": [
    {
     "data": {
      "text/plain": [
       "True"
      ]
     },
     "execution_count": 2,
     "metadata": {},
     "output_type": "execute_result"
    }
   ],
   "source": [
    "from dotenv import load_dotenv\n",
    "import os\n",
    "\n",
    "load_dotenv()"
   ]
  },
  {
   "cell_type": "code",
   "execution_count": 2,
   "id": "ce2347a0",
   "metadata": {},
   "outputs": [],
   "source": [
    "GROQ_API_KEY = os.getenv(\"GROQ_API_KEY\")"
   ]
  },
  {
   "cell_type": "code",
   "execution_count": 4,
   "id": "8dbfce7b",
   "metadata": {},
   "outputs": [
    {
     "name": "stdout",
     "output_type": "stream",
     "text": [
      "page_content='Company: Codsoft' metadata={'company': ''}\n",
      "page_content='Overview: CodSoft is also a fake company on Linkedin which hires people as interns. The newbies feel that they are excited but their cover letter is also automated, their whole hiring process is automated and everything. Their tasks are just automated provided on a pdf or sheet to perform and it's useless to do internship if you are a newbie. Here are some comments from users in Reddit:' metadata={'overview': ''}\n",
      "page_content='Comments: It's fake and for certificate u need to pay i guess It's useless, Codsoft is so fake' metadata={'comments': ''}\n",
      "page_content='Sources from Reddit: https://www.reddit.com/r/internships/comments/1k8esbw/is_codsoft_intership_are_fake_or_real/' metadata={'sources': ''}\n",
      "page_content='Company: GaoTek or Gao RFID Inc.' metadata={'sources': '', 'company': ''}\n",
      "page_content='Overview: GaoTek Inc or Gao RFID Inc is a virtual company based in US or Canada. They are known for their fake internships offerings and their certificates are of no value.' metadata={'sources': '', 'overview': ''}\n",
      "page_content='Comments: Hi! I did complete an internship with GAOTek very recently. I've been searching for any opportunity to add to my resume as I don't have enough experience to get a job, and despite my doubts, I applied and went through with the internship anyway. Apologies in advance for the long message. In the end I don't think I even want the company to be on my resume! It was a complete waste of time! Don't do it! There is no 'training', they are disorganized and there is no structure to any of the work. You will likely wait several weeks to hear anything about what you're even supposed to do.I'm in a vastly different time zone than the majority of the company. So they were trying to arrange meetings, and I was constantly explaining that I couldn't attend at that time. It took several attempts before they actually rescheduled a time that was reasonable for me and a few other interns in the same situation. I personally had virtually no work. I was sick for a couple weeks early on, but it was still nearly halfway through my \"internship\" before I properly got assigned a task. A task that took me a couple hours at most. When I did get a task I often had conflicting instructions for what to do. Over the entire time of the internship, I had 3 tasks to do. And one of those tasks was wrong because of a miscommunication between the 'CEO' and the 'Team Leaders', so everyone who did the task actually got told off and threatened to have their internship revoked because it wasn't what they wanted. Oh, by the way, everyone is an intern! The 'Team Leaders' are interns, the entire team are interns. This also means that they swap around frequently. Who's in charge of the team? No one knows. There actually are very few people who don't seem to be interns, and one of those is the company CEO. No doubt that none of these interns are paid either. I literally just received my 'certificates' and they actually look fake. It looks like some sort of achievement certificate you'd get in high school, not an actual training course certificate or anything like that. Some visual elements aren't aligned on the certificate. The people who 'signed' don't have any surnames - it's just a random first name like \"Sandra\", and their 'signature' is just their first name written in a fancy font. On top of that, I didn't do any sort of training that these certificates say I did. There was no training whatsoever.' metadata={'sources': '', 'comments': ''}\n",
      "page_content='Sources from Reddit: https://www.reddit.com/r/internships/comments/hcma1w/comment/l56tzjs/?utm_source=share&utm_medium=web3x&utm_name=web3xcss&utm_term=1&utm_content=share_button,https://www.reddit.com/r/internships/comments/lyjj9x/advice_dont_do_internships_at_gaotek_as_thry_wont/,https://www.reddit.com/r/internships/comments/1dl32ij/gaotek_internship/,https://www.reddit.com/r/internships/comments/1dl32ij/comment/l9o8sp7/?utm_source=share&utm_medium=web3x&utm_name=web3xcss&utm_term=1&utm_content=share_button,https://www.reddit.com/r/internships/comments/opfwv9/comment/h67c38v/?utm_source=share&utm_medium=web3x&utm_name=web3xcss&utm_term=1&utm_content=share_button' metadata={'sources': ''}\n",
      "page_content='Company: CodeAlpha' metadata={'sources': '', 'company': ''}\n",
      "page_content='Overview: Same like Codsoft, CodeAlpha is also a fake company on Linkedin that hires, it has also an automated process like tasks, hiring etc all stuff.' metadata={'sources': '', 'overview': ''}\n",
      "page_content='Comments: Not Available' metadata={'sources': '', 'comments': ''}\n",
      "page_content='Sources from Reddit: https://www.reddit.com/r/careerguidance/comments/1fe6j52/should_i_delete_my_codealpha_internships_post/,https://www.reddit.com/r/internships/comments/1itdoyv/online_scam/,https://www.reddit.com/r/internships/comments/1lo07rt/cant_stop_this_college_scam/' metadata={'sources': ''}\n"
     ]
    }
   ],
   "source": [
    "from langchain.chat_models import init_chat_model\n",
    "from langchain_huggingface import HuggingFaceEmbeddings\n",
    "from langchain.document_loaders import TextLoader\n",
    "from langchain_text_splitters import MarkdownHeaderTextSplitter\n",
    "from langchain_mongodb import MongoDBAtlasVectorSearch\n",
    "from pymongo import MongoClient\n",
    "from pymongo.server_api import ServerApi\n",
    "\n",
    "MONGO_USER = os.getenv(\"MONGO_USER\")\n",
    "MONGO_PASSWORD = os.getenv(\"MONGO_PASSWORD\")\n",
    "MONGO_CLUSTER = os.getenv(\"MONGO_CLUSTER\")\n",
    "MONGO_DATABASE = os.getenv(\"MONGO_DATABASE\")\n",
    "\n",
    "uri = f\"mongodb+srv://{MONGO_USER}:{MONGO_PASSWORD}@{MONGO_CLUSTER}.igv4jfg.mongodb.net/?retryWrites=true&w=majority&appName={MONGO_CLUSTER}\"\n",
    "\n",
    "client = MongoClient(uri, server_api=ServerApi('1'))\n",
    "db = client.get_database(MONGO_DATABASE)\n",
    "\n",
    "rev_embeddings_collection = db[\"review_embeddings\"]\n",
    "\n",
    "loader = TextLoader(\"docs/fake_internships_info.md\")\n",
    "docs = loader.load()\n",
    "\n",
    "\n",
    "splitter = MarkdownHeaderTextSplitter(headers_to_split_on=[\n",
    "    (\"####\", \"company\"), (\"###\", \"overview\"), (\"##\", \"comments\"), (\"#\", \"sources\")\n",
    "])\n",
    "\n",
    "split_docs = splitter.split_text(docs[0].page_content)\n",
    "\n",
    "\n",
    "llm = init_chat_model(model=\"llama3-8b-8192\", model_provider=\"groq\")\n",
    "embeddings = HuggingFaceEmbeddings(model=\"sentence-transformers/all-MiniLM-L6-v2\")\n",
    "\n",
    "def return_embeddings(string: str) -> list[float]:\n",
    "    embed = embeddings.embed_query(string)\n",
    "    return embed\n",
    "\n",
    "data = []\n",
    "current_company = None\n",
    "current_section = None\n",
    "\n",
    "for content in split_docs:\n",
    "    print(content) \n"
   ]
  }
 ],
 "metadata": {
  "kernelspec": {
   "display_name": "env (3.10.12)",
   "language": "python",
   "name": "python3"
  },
  "language_info": {
   "codemirror_mode": {
    "name": "ipython",
    "version": 3
   },
   "file_extension": ".py",
   "mimetype": "text/x-python",
   "name": "python",
   "nbconvert_exporter": "python",
   "pygments_lexer": "ipython3",
   "version": "3.10.12"
  }
 },
 "nbformat": 4,
 "nbformat_minor": 5
}
